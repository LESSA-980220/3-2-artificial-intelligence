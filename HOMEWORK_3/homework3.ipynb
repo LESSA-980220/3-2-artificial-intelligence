{
 "cells": [
  {
   "cell_type": "code",
   "execution_count": 1,
   "id": "f7d10ad3",
   "metadata": {},
   "outputs": [],
   "source": [
    "import random\n",
    "import numpy as np\n",
    "import matplotlib.pyplot as plt"
   ]
  },
  {
   "cell_type": "markdown",
   "id": "1c196566",
   "metadata": {},
   "source": [
    "### XOR data"
   ]
  },
  {
   "cell_type": "code",
   "execution_count": 2,
   "id": "74660e33",
   "metadata": {},
   "outputs": [],
   "source": [
    "x_seeds = np.array([(0,0), (1,0), (0,1), (1,1)], dtype=float)\n",
    "y_seeds = np.array([0,1,1,0])"
   ]
  },
  {
   "cell_type": "code",
   "execution_count": 3,
   "id": "5977f288",
   "metadata": {},
   "outputs": [],
   "source": [
    "N = 1000\n",
    "idxs = np.random.randint(0,4,N)"
   ]
  },
  {
   "cell_type": "code",
   "execution_count": 4,
   "id": "f5929e4d",
   "metadata": {},
   "outputs": [],
   "source": [
    "X = x_seeds[idxs]\n",
    "Y = y_seeds[idxs]"
   ]
  },
  {
   "cell_type": "code",
   "execution_count": 5,
   "id": "a63a8c33",
   "metadata": {},
   "outputs": [],
   "source": [
    "X += np.random.normal(scale = 0.25, size = X.shape)"
   ]
  },
  {
   "cell_type": "markdown",
   "id": "4c3a22cc",
   "metadata": {},
   "source": [
    "### Plot data"
   ]
  },
  {
   "cell_type": "code",
   "execution_count": 6,
   "id": "665173a8",
   "metadata": {},
   "outputs": [],
   "source": [
    "idxs_1 = np.where(Y==1)\n",
    "idxs_0 = np.where(Y==0)"
   ]
  },
  {
   "cell_type": "code",
   "execution_count": 7,
   "id": "9e78c33c",
   "metadata": {},
   "outputs": [],
   "source": [
    "X_0 = X[idxs_0]\n",
    "Y_0 = Y[idxs_0]"
   ]
  },
  {
   "cell_type": "code",
   "execution_count": 8,
   "id": "8041e78a",
   "metadata": {},
   "outputs": [],
   "source": [
    "X_1 = X[idxs_1]\n",
    "Y_1 = Y[idxs_1]"
   ]
  },
  {
   "cell_type": "code",
   "execution_count": 9,
   "id": "3075bb5c",
   "metadata": {},
   "outputs": [
    {
     "data": {
      "image/png": "[encoded data removed]",
      "text/plain": [
       "<Figure size 432x288 with 1 Axes>"
      ]
     },
     "metadata": {
      "needs_background": "light"
     },
     "output_type": "display_data"
    }
   ],
   "source": [
    "#plt.clf()\n",
    "plt.plot(X_0[:,0], X_0[:,1], \"r^\")\n",
    "plt.plot(X_1[:,0], X_1[:,1], \"bx\")\n",
    "plt.show()"
   ]
  },
  {
   "cell_type": "markdown",
   "id": "aa7d6f43",
   "metadata": {},
   "source": [
    "### Model"
   ]
  },
  {
   "cell_type": "code",
   "execution_count": 10,
   "id": "f33df66e",
   "metadata": {},
   "outputs": [],
   "source": [
    "class shallow_neural_network():\n",
    "    def __init__(self, num_input_features, num_hiddens):\n",
    "        self.num_input_features = num_input_features\n",
    "        self.num_hiddens = num_hiddens\n",
    "        \n",
    "        self.W1 = np.random.normal(size = (num_hiddens, num_input_features))\n",
    "        self.b1 = np.random.normal(size = num_hiddens)\n",
    "        self.W2 = np.random.normal(size = num_hiddens)\n",
    "        self.b2 = np.random.normal(size = 1)\n",
    "        \n",
    "    def sigmoid(self, z):\n",
    "        return 1/(1 + np.exp(-z))\n",
    "    \n",
    "    def predict(self, x):\n",
    "        z1 = np.matmul(self.W1, x) + self.b1\n",
    "        a1 = np.tanh(z1)\n",
    "        z2 = np.matmul(self.W2, a1) + self.b2\n",
    "        a2 = self.sigmoid(z2)\n",
    "        return a2, (z1, a1, z2, a2)"
   ]
  },
  {
   "cell_type": "code",
   "execution_count": 11,
   "id": "a6319daf",
   "metadata": {},
   "outputs": [],
   "source": [
    "model = shallow_neural_network(2,3)"
   ]
  },
  {
   "cell_type": "markdown",
   "id": "522dd26e",
   "metadata": {},
   "source": [
    "### Train"
   ]
  },
  {
   "cell_type": "code",
   "execution_count": 12,
   "id": "8637b848",
   "metadata": {},
   "outputs": [],
   "source": [
    "def train(X, Y, model, lr = 0.1):\n",
    "    dW1 = np.zeros_like(model.W1)\n",
    "    db1 = np.zeros_like(model.b1)\n",
    "    dW2 = np.zeros_like(model.W2)\n",
    "    db2 = np.zeros_like(model.b2)\n",
    "    m = len(X)\n",
    "    cost = 0.0\n",
    "    for x,y in zip(X,Y):\n",
    "        a2, (z1, a1, z2, _) = model.predict(x)\n",
    "        if y == 1:\n",
    "            cost -= np.log(a2)\n",
    "        else:\n",
    "            cost -= np.log(1-a2)\n",
    "            \n",
    "        diff = a2-y\n",
    "        # layer 2\n",
    "        # db2\n",
    "        db2 += diff\n",
    "        \n",
    "        # dw2 : remove for-loops completed\n",
    "        dW2 += a1*diff\n",
    "        # layer 1\n",
    "        # db1 : remove for-loops completed\n",
    "        db1 += (1-a1**2)*model.W2*diff\n",
    "        # db2 : remove for-loops completed\n",
    "        dW1 += np.outer((1-a1**2)*model.W2*diff, x, out=None)\n",
    "\n",
    "                \n",
    "    cost /= m\n",
    "    model.W1 -= lr * dW1/m\n",
    "    model.b1 -= lr * db1/m\n",
    "    model.W2 -= lr * dW2/m\n",
    "    model.b2 -= lr * db2/m\n",
    "    \n",
    "    return cost"
   ]
  },
  {
   "cell_type": "code",
   "execution_count": 13,
   "id": "71ba20a6",
   "metadata": {},
   "outputs": [
    {
     "name": "stdout",
     "output_type": "stream",
     "text": [
      "0 [1.03281889]\n",
      "10 [0.63385191]\n",
      "20 [0.58250232]\n",
      "30 [0.52124711]\n",
      "40 [0.44454968]\n",
      "50 [0.36475299]\n",
      "60 [0.3012723]\n",
      "70 [0.2575284]\n",
      "80 [0.2283814]\n",
      "90 [0.20854492]\n"
     ]
    }
   ],
   "source": [
    "for epoch in range(100):\n",
    "    cost = train(X, Y, model, 1.0)\n",
    "    if epoch%10 == 0:\n",
    "        print(epoch, cost)"
   ]
  },
  {
   "cell_type": "markdown",
   "id": "f260b31e",
   "metadata": {},
   "source": [
    "### Test"
   ]
  },
  {
   "cell_type": "code",
   "execution_count": 14,
   "id": "47d4a945",
   "metadata": {},
   "outputs": [
    {
     "data": {
      "text/plain": [
       "0.10158278402077892"
      ]
     },
     "execution_count": 14,
     "metadata": {},
     "output_type": "execute_result"
    }
   ],
   "source": [
    "model.predict((1,1))[0].item()"
   ]
  },
  {
   "cell_type": "code",
   "execution_count": 15,
   "id": "cc146743",
   "metadata": {},
   "outputs": [
    {
     "data": {
      "text/plain": [
       "0.9547431988179366"
      ]
     },
     "execution_count": 15,
     "metadata": {},
     "output_type": "execute_result"
    }
   ],
   "source": [
    "model.predict((1,0))[0].item()"
   ]
  },
  {
   "cell_type": "code",
   "execution_count": 16,
   "id": "c2328431",
   "metadata": {},
   "outputs": [
    {
     "data": {
      "text/plain": [
       "0.9172140713972201"
      ]
     },
     "execution_count": 16,
     "metadata": {},
     "output_type": "execute_result"
    }
   ],
   "source": [
    "model.predict((0,1))[0].item()"
   ]
  },
  {
   "cell_type": "code",
   "execution_count": 17,
   "id": "3ddacc5c",
   "metadata": {},
   "outputs": [
    {
     "data": {
      "text/plain": [
       "0.03008781903594751"
      ]
     },
     "execution_count": 17,
     "metadata": {},
     "output_type": "execute_result"
    }
   ],
   "source": [
    "model.predict((0,0))[0].item()"
   ]
  }
 ],
 "metadata": {
  "kernelspec": {
   "display_name": "Python 3",
   "language": "python",
   "name": "python3"
  },
  "language_info": {
   "codemirror_mode": {
    "name": "ipython",
    "version": 3
   },
   "file_extension": ".py",
   "mimetype": "text/x-python",
   "name": "python",
   "nbconvert_exporter": "python",
   "pygments_lexer": "ipython3",
   "version": "3.8.8"
  }
 },
 "nbformat": 4,
 "nbformat_minor": 5
}
