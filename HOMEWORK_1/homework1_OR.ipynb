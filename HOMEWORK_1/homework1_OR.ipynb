{
 "cells": [
  {
   "cell_type": "markdown",
   "id": "a9c6b877",
   "metadata": {},
   "source": [
    "### Logistic regression (OR)"
   ]
  },
  {
   "cell_type": "code",
   "execution_count": 1,
   "id": "af26a916",
   "metadata": {},
   "outputs": [],
   "source": [
    "import random\n",
    "from math import exp, log\n",
    "import numpy as np\n",
    "import matplotlib.pyplot as plt"
   ]
  },
  {
   "cell_type": "markdown",
   "id": "4de1efc5",
   "metadata": {},
   "source": [
    "### Data preparation"
   ]
  },
  {
   "cell_type": "code",
   "execution_count": 2,
   "id": "639b6acd",
   "metadata": {},
   "outputs": [],
   "source": [
    "X = np.array([(0,0),(1,0),(0,1),(1,1)])\n",
    "Y = np.array([0,1,1,1])\n",
    "epoch_array = np.array([])\n",
    "cost_array = np.array([])"
   ]
  },
  {
   "cell_type": "markdown",
   "id": "9b2b041e",
   "metadata": {},
   "source": [
    "### Model"
   ]
  },
  {
   "cell_type": "code",
   "execution_count": 3,
   "id": "f814e26c",
   "metadata": {},
   "outputs": [],
   "source": [
    "class logistic_regression_model():\n",
    "    def __init__(self):\n",
    "        self.w = np.random.normal(size = 2)\n",
    "        self.b = np.random.normal(size = 1)\n",
    "        \n",
    "    def sigmoid(self, z):\n",
    "        return 1/(1 + exp(-z))\n",
    "    \n",
    "    def predict(self, x):\n",
    "        z = np.inner(self.w, x) + self.b\n",
    "        a = self.sigmoid(z)\n",
    "        return a"
   ]
  },
  {
   "cell_type": "code",
   "execution_count": 4,
   "id": "b75d7c09",
   "metadata": {},
   "outputs": [],
   "source": [
    "model = logistic_regression_model()"
   ]
  },
  {
   "cell_type": "markdown",
   "id": "f1c386a9",
   "metadata": {},
   "source": [
    "### Training"
   ]
  },
  {
   "cell_type": "code",
   "execution_count": 5,
   "id": "230dde1c",
   "metadata": {},
   "outputs": [],
   "source": [
    "def train(X, Y, model, lr):\n",
    "    dw0 = 0.0\n",
    "    dw1 = 0.0\n",
    "    db = 0.0\n",
    "    m = len(X)\n",
    "    cost = 0.0\n",
    "    for x,y in zip(X,Y):\n",
    "        a = model.predict(x)\n",
    "        if y == 1:\n",
    "            cost -= log(a)\n",
    "        else:\n",
    "            cost -= log(1-a)\n",
    "        \n",
    "        dw0 += np.multiply(a-y, x[0])\n",
    "        dw1 += np.multiply(a-y, x[1])\n",
    "        db += (a-y)\n",
    "        \n",
    "    cost /= m\n",
    "    model.w[0] -= lr * dw0/m\n",
    "    model.w[1] -= lr * dw1/m\n",
    "    model.b -= lr * db/m\n",
    "    \n",
    "    return cost"
   ]
  },
  {
   "cell_type": "code",
   "execution_count": 6,
   "id": "cc9551ee",
   "metadata": {
    "scrolled": false
   },
   "outputs": [
    {
     "name": "stdout",
     "output_type": "stream",
     "text": [
      "0 0.7874472802109931\n",
      "100 0.3282167633734391\n",
      "200 0.25734994592914606\n",
      "300 0.21073185131751612\n",
      "400 0.17765653102652046\n",
      "500 0.1530815324687819\n",
      "600 0.1341619316129397\n",
      "700 0.1191847427231759\n",
      "800 0.10705996870809374\n",
      "900 0.09706183228958669\n",
      "1000 0.08868887372674841\n",
      "1100 0.08158389385666097\n",
      "1200 0.07548586097111563\n",
      "1300 0.07019981415199053\n",
      "1400 0.06557736765319232\n",
      "1500 0.06150370508580261\n",
      "1600 0.05788867972251992\n",
      "1700 0.05466058785266647\n",
      "1800 0.05176172612238678\n",
      "1900 0.04914516592656012\n",
      "2000 0.04677237446629772\n",
      "2100 0.04461143522016717\n",
      "2200 0.04263569955468141\n",
      "2300 0.04082275293401604\n",
      "2400 0.039153613728441755\n",
      "2500 0.037612106082353006\n",
      "2600 0.03618436449247504\n",
      "2700 0.03485843908148661\n",
      "2800 0.0336239785943783\n",
      "2900 0.032471973921650965\n",
      "3000 0.031394549150851755\n",
      "3100 0.030384790230454616\n",
      "3200 0.029436603616528546\n",
      "3300 0.028544598984477258\n",
      "3400 0.027703991381067966\n",
      "3500 0.026910519176568965\n",
      "3600 0.026160374932476214\n",
      "3700 0.025450146884523205\n",
      "3800 0.024776769195477985\n",
      "3900 0.024137479488643147\n",
      "4000 0.023529782454013742\n",
      "4100 0.022951418541982384\n",
      "4200 0.022400336937312203\n",
      "4300 0.0218746721487309\n",
      "4400 0.02137272366446983\n",
      "4500 0.020892938217216515\n",
      "4600 0.0204338942777544\n",
      "4700 0.01999428845853651\n",
      "4800 0.019572923559329564\n",
      "4900 0.01916869802900633\n",
      "5000 0.018780596652299014\n",
      "5100 0.018407682299161194\n",
      "5200 0.01804908859845225\n",
      "5300 0.017704013417781838\n",
      "5400 0.017371713048253107\n",
      "5500 0.01705149700708212\n",
      "5600 0.01674272338309742\n",
      "5700 0.01644479466032006\n",
      "5800 0.016157153963490118\n",
      "5900 0.015879281676793925\n",
      "6000 0.01561069239335528\n",
      "6100 0.015350932158472263\n",
      "6200 0.015099575974221752\n",
      "6300 0.014856225537062784\n",
      "6400 0.014620507183523241\n",
      "6500 0.014392070022047556\n",
      "6600 0.01417058423167476\n",
      "6700 0.013955739510472612\n",
      "6800 0.01374724365861392\n",
      "6900 0.013544821282700084\n",
      "7000 0.013348212609429696\n",
      "7100 0.01315717239802681\n",
      "7200 0.012971468941994531\n",
      "7300 0.012790883151773748\n",
      "7400 0.012615207710780424\n",
      "7500 0.012444246298079581\n",
      "7600 0.012277812871656604\n",
      "7700 0.012115731006857346\n",
      "7800 0.011957833285119405\n",
      "7900 0.01180396072860068\n",
      "8000 0.011653962276745743\n",
      "8100 0.011507694301211933\n",
      "8200 0.01136502015592559\n",
      "8300 0.011225809759340356\n",
      "8400 0.011089939206249233\n",
      "8500 0.010957290406743349\n",
      "8600 0.010827750750134743\n",
      "8700 0.010701212791855635\n",
      "8800 0.010577573961528267\n",
      "8900 0.01045673629055574\n",
      "9000 0.010338606157732598\n",
      "9100 0.01022309405150173\n",
      "9200 0.010110114347603958\n",
      "9300 0.009999585100972624\n",
      "9400 0.009891427850821167\n",
      "9500 0.009785567437961704\n",
      "9600 0.009681931833468067\n",
      "9700 0.009580451977874199\n",
      "9800 0.009481061630159507\n",
      "9900 0.009383697225835343\n"
     ]
    }
   ],
   "source": [
    "for epoch in range(10000):\n",
    "    cost = train(X, Y, model, 0.1)\n",
    "    epoch_array = np.append(epoch_array, epoch)\n",
    "    cost_array = np.append(cost_array, cost)\n",
    "    if epoch % 100 == 0:\n",
    "        print(epoch, cost)"
   ]
  },
  {
   "cell_type": "code",
   "execution_count": 7,
   "id": "9a6efa6e",
   "metadata": {},
   "outputs": [
    {
     "data": {
      "text/plain": [
       "Text(0.5, 1.0, 'OR')"
      ]
     },
     "execution_count": 7,
     "metadata": {},
     "output_type": "execute_result"
    },
    {
     "data": {
      "image/png": "[encoded data removed]",
      "text/plain": [
       "<Figure size 432x288 with 1 Axes>"
      ]
     },
     "metadata": {
      "needs_background": "light"
     },
     "output_type": "display_data"
    }
   ],
   "source": [
    "plt.plot(epoch_array, cost_array)\n",
    "plt.xlabel('epoch')\n",
    "plt.ylabel('cost')\n",
    "plt.title('OR')"
   ]
  },
  {
   "cell_type": "markdown",
   "id": "123e6371",
   "metadata": {},
   "source": [
    "### Testing"
   ]
  },
  {
   "cell_type": "code",
   "execution_count": 8,
   "id": "451c5171",
   "metadata": {},
   "outputs": [
    {
     "data": {
      "text/plain": [
       "0.03942015487010904"
      ]
     },
     "execution_count": 8,
     "metadata": {},
     "output_type": "execute_result"
    }
   ],
   "source": [
    "model.predict((0,0))"
   ]
  },
  {
   "cell_type": "code",
   "execution_count": 8,
   "id": "d0e6aa70",
   "metadata": {},
   "outputs": [
    {
     "data": {
      "text/plain": [
       "0.9918433567595195"
      ]
     },
     "execution_count": 8,
     "metadata": {},
     "output_type": "execute_result"
    }
   ],
   "source": [
    "model.predict((0,1))"
   ]
  },
  {
   "cell_type": "code",
   "execution_count": 9,
   "id": "f13b3a4f",
   "metadata": {},
   "outputs": [
    {
     "data": {
      "text/plain": [
       "0.9918273348811616"
      ]
     },
     "execution_count": 9,
     "metadata": {},
     "output_type": "execute_result"
    }
   ],
   "source": [
    "model.predict((1,0))"
   ]
  },
  {
   "cell_type": "code",
   "execution_count": 10,
   "id": "335344f1",
   "metadata": {},
   "outputs": [
    {
     "data": {
      "text/plain": [
       "0.9999985858289085"
      ]
     },
     "execution_count": 10,
     "metadata": {},
     "output_type": "execute_result"
    }
   ],
   "source": [
    "model.predict((1,1))"
   ]
  },
  {
   "cell_type": "code",
   "execution_count": null,
   "id": "f396deac",
   "metadata": {},
   "outputs": [],
   "source": []
  },
  {
   "cell_type": "code",
   "execution_count": null,
   "id": "fe4c05c6",
   "metadata": {},
   "outputs": [],
   "source": []
  },
  {
   "cell_type": "code",
   "execution_count": null,
   "id": "ccc02a7b",
   "metadata": {},
   "outputs": [],
   "source": []
  }
 ],
 "metadata": {
  "kernelspec": {
   "display_name": "Python 3",
   "language": "python",
   "name": "python3"
  },
  "language_info": {
   "codemirror_mode": {
    "name": "ipython",
    "version": 3
   },
   "file_extension": ".py",
   "mimetype": "text/x-python",
   "name": "python",
   "nbconvert_exporter": "python",
   "pygments_lexer": "ipython3",
   "version": "3.8.8"
  }
 },
 "nbformat": 4,
 "nbformat_minor": 5
}
