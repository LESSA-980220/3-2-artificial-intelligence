{
 "cells": [
  {
   "cell_type": "markdown",
   "id": "a9c6b877",
   "metadata": {},
   "source": [
    "### Logistic regression (AND)"
   ]
  },
  {
   "cell_type": "code",
   "execution_count": 1,
   "id": "af26a916",
   "metadata": {},
   "outputs": [],
   "source": [
    "import random\n",
    "from math import exp, log\n",
    "import numpy as np\n",
    "import matplotlib.pyplot as plt"
   ]
  },
  {
   "cell_type": "markdown",
   "id": "4de1efc5",
   "metadata": {},
   "source": [
    "### Data preparation"
   ]
  },
  {
   "cell_type": "code",
   "execution_count": 2,
   "id": "54469a8c",
   "metadata": {},
   "outputs": [],
   "source": [
    "X = np.array([(0,0),(1,0),(0,1),(1,1)])\n",
    "Y = np.array([0,0,0,1])\n",
    "epoch_array = np.array([])\n",
    "cost_array = np.array([])"
   ]
  },
  {
   "cell_type": "markdown",
   "id": "9b2b041e",
   "metadata": {},
   "source": [
    "### Model"
   ]
  },
  {
   "cell_type": "code",
   "execution_count": 3,
   "id": "f814e26c",
   "metadata": {},
   "outputs": [],
   "source": [
    "class logistic_regression_model():\n",
    "    def __init__(self):\n",
    "        self.w = np.random.normal(size = 2)\n",
    "        self.b = np.random.normal(size = 1)\n",
    "        \n",
    "    def sigmoid(self, z):\n",
    "        return 1/(1 + exp(-z))\n",
    "    \n",
    "    def predict(self, x):\n",
    "        z = np.inner(self.w, x) + self.b\n",
    "        a = self.sigmoid(z)\n",
    "        return a"
   ]
  },
  {
   "cell_type": "code",
   "execution_count": 4,
   "id": "b75d7c09",
   "metadata": {},
   "outputs": [],
   "source": [
    "model = logistic_regression_model()"
   ]
  },
  {
   "cell_type": "markdown",
   "id": "f1c386a9",
   "metadata": {},
   "source": [
    "### Training"
   ]
  },
  {
   "cell_type": "code",
   "execution_count": 5,
   "id": "230dde1c",
   "metadata": {},
   "outputs": [],
   "source": [
    "def train(X, Y, model, lr):\n",
    "    dw0 = 0.0\n",
    "    dw1 = 0.0\n",
    "    db = 0.0\n",
    "    m = len(X)\n",
    "    cost = 0.0\n",
    "    for x,y in zip(X,Y):\n",
    "        a = model.predict(x)\n",
    "        if y == 1:\n",
    "            cost -= log(a)\n",
    "        else:\n",
    "            cost -= log(1-a)\n",
    "        \n",
    "        dw0 += np.multiply(a-y, x[0])\n",
    "        dw1 += np.multiply(a-y, x[1])\n",
    "        db += (a-y)\n",
    "        \n",
    "    cost /= m\n",
    "    model.w[0] -= lr * dw0/m\n",
    "    model.w[1] -= lr * dw1/m\n",
    "    model.b -= lr * db/m\n",
    "    \n",
    "    return cost"
   ]
  },
  {
   "cell_type": "code",
   "execution_count": 6,
   "id": "cc9551ee",
   "metadata": {
    "scrolled": true
   },
   "outputs": [
    {
     "name": "stdout",
     "output_type": "stream",
     "text": [
      "0 0.6331624133637017\n",
      "100 0.4458196632878657\n",
      "200 0.35228219127724925\n",
      "300 0.29407162696169853\n",
      "400 0.25375396752801294\n",
      "500 0.2237765364632649\n",
      "600 0.20039793511210546\n",
      "700 0.18154454798511405\n",
      "800 0.1659615046422927\n",
      "900 0.15283629052495623\n",
      "1000 0.14161460193260314\n",
      "1100 0.13190249295633444\n",
      "1200 0.12341069958337289\n",
      "1300 0.11592112242985082\n",
      "1400 0.10926568193481431\n",
      "1500 0.10331244647785173\n",
      "1600 0.09795622652840771\n",
      "1700 0.09311201539978697\n",
      "1800 0.08871030351640458\n",
      "1900 0.08469366046040516\n",
      "2000 0.08101419592570762\n",
      "2100 0.07763164307201609\n",
      "2200 0.07451189098271616\n",
      "2300 0.07162584663291048\n",
      "2400 0.06894854225382749\n",
      "2500 0.06645842791869647\n",
      "2600 0.06413680563583189\n",
      "2700 0.061967372748648344\n",
      "2800 0.05993585062235582\n",
      "2900 0.05802968049138897\n",
      "3000 0.056237772644278754\n",
      "3100 0.05455029830100417\n",
      "3200 0.05295851591150526\n",
      "3300 0.051454625394721135\n",
      "3400 0.050031645201131916\n",
      "3500 0.048683308129250716\n",
      "3600 0.04740397263768649\n",
      "3700 0.0461885470273576\n",
      "3800 0.04503242436585611\n",
      "3900 0.04393142641947442\n",
      "4000 0.0428817551716808\n",
      "4100 0.04187995075770158\n",
      "4200 0.0409228548468929\n",
      "4300 0.040007578668144486\n",
      "4400 0.039131475006625435\n",
      "4500 0.03829211360898015\n",
      "4600 0.037487259523420774\n",
      "4700 0.03671485397485621\n",
      "4800 0.0359729974362268\n",
      "4900 0.035259934607956796\n",
      "5000 0.03457404105978908\n",
      "5100 0.033913811324740556\n",
      "5200 0.03327784826473223\n",
      "5300 0.0326648535525928\n",
      "5400 0.03207361913640773\n",
      "5500 0.03150301957023417\n",
      "5600 0.030952005110570432\n",
      "5700 0.030419595491077374\n",
      "5800 0.029904874299275068\n",
      "5900 0.02940698388856773\n",
      "6000 0.0289251207672361\n",
      "6100 0.028458531413181703\n",
      "6200 0.028006508469385696\n",
      "6300 0.027568387280397545\n",
      "6400 0.027143542734816607\n",
      "6500 0.026731386382777337\n",
      "6600 0.02633136380097418\n",
      "6700 0.0259429521808488\n",
      "6800 0.02556565811825992\n",
      "6900 0.02519901558532586\n",
      "7000 0.024842584067211373\n",
      "7100 0.02449594684846319\n",
      "7200 0.02415870943511679\n",
      "7300 0.02383049810022416\n",
      "7400 0.023510958541717253\n",
      "7500 0.023199754642644115\n",
      "7600 0.022896567324806452\n",
      "7700 0.02260109348771698\n",
      "7800 0.022313045025578175\n",
      "7900 0.02203214791569088\n",
      "8000 0.021758141372326782\n",
      "8100 0.02149077706065966\n",
      "8200 0.021229818365855906\n",
      "8300 0.02097503971287212\n",
      "8400 0.02072622593291437\n",
      "8500 0.020483171672878896\n",
      "8600 0.02024568084441676\n",
      "8700 0.020013566109567345\n",
      "8800 0.019786648400164322\n",
      "8900 0.019564756468464613\n",
      "9000 0.01934772646666451\n",
      "9100 0.019135401553165038\n",
      "9200 0.01892763152362898\n",
      "9300 0.018724272465030285\n",
      "9400 0.018525186431047454\n",
      "9500 0.01833024113728349\n",
      "9600 0.018139309674917614\n",
      "9700 0.01795227024150505\n",
      "9800 0.017769005887741537\n",
      "9900 0.017589404279101734\n"
     ]
    }
   ],
   "source": [
    "for epoch in range(10000):\n",
    "    cost = train(X, Y, model, 0.1)\n",
    "    epoch_array = np.append(epoch_array, epoch)\n",
    "    cost_array = np.append(cost_array, cost)\n",
    "    if epoch % 100 == 0:\n",
    "        print(epoch, cost)"
   ]
  },
  {
   "cell_type": "code",
   "execution_count": 7,
   "id": "99db48dd",
   "metadata": {},
   "outputs": [
    {
     "data": {
      "text/plain": [
       "Text(0.5, 1.0, 'AND')"
      ]
     },
     "execution_count": 7,
     "metadata": {},
     "output_type": "execute_result"
    },
    {
     "data": {
      "image/png": "[encoded data removed]",
      "text/plain": [
       "<Figure size 432x288 with 1 Axes>"
      ]
     },
     "metadata": {
      "needs_background": "light"
     },
     "output_type": "display_data"
    }
   ],
   "source": [
    "plt.plot(epoch_array, cost_array)\n",
    "plt.xlabel('epoch')\n",
    "plt.ylabel('cost')\n",
    "plt.title('AND')"
   ]
  },
  {
   "cell_type": "markdown",
   "id": "123e6371",
   "metadata": {},
   "source": [
    "### Testing"
   ]
  },
  {
   "cell_type": "code",
   "execution_count": 8,
   "id": "451c5171",
   "metadata": {},
   "outputs": [
    {
     "data": {
      "text/plain": [
       "1.2444081932212218e-05"
      ]
     },
     "execution_count": 8,
     "metadata": {},
     "output_type": "execute_result"
    }
   ],
   "source": [
    "model.predict((0,0))"
   ]
  },
  {
   "cell_type": "code",
   "execution_count": 9,
   "id": "d0e6aa70",
   "metadata": {},
   "outputs": [
    {
     "data": {
      "text/plain": [
       "0.02023653500342502"
      ]
     },
     "execution_count": 9,
     "metadata": {},
     "output_type": "execute_result"
    }
   ],
   "source": [
    "model.predict((0,1))"
   ]
  },
  {
   "cell_type": "code",
   "execution_count": 10,
   "id": "f13b3a4f",
   "metadata": {},
   "outputs": [
    {
     "data": {
      "text/plain": [
       "0.02023652333401993"
      ]
     },
     "execution_count": 10,
     "metadata": {},
     "output_type": "execute_result"
    }
   ],
   "source": [
    "model.predict((1,0))"
   ]
  },
  {
   "cell_type": "code",
   "execution_count": 11,
   "id": "335344f1",
   "metadata": {},
   "outputs": [
    {
     "data": {
      "text/plain": [
       "0.9716566280669214"
      ]
     },
     "execution_count": 11,
     "metadata": {},
     "output_type": "execute_result"
    }
   ],
   "source": [
    "model.predict((1,1))"
   ]
  },
  {
   "cell_type": "code",
   "execution_count": null,
   "id": "f396deac",
   "metadata": {},
   "outputs": [],
   "source": []
  },
  {
   "cell_type": "code",
   "execution_count": null,
   "id": "fe4c05c6",
   "metadata": {},
   "outputs": [],
   "source": []
  },
  {
   "cell_type": "code",
   "execution_count": null,
   "id": "ccc02a7b",
   "metadata": {},
   "outputs": [],
   "source": []
  }
 ],
 "metadata": {
  "kernelspec": {
   "display_name": "Python 3",
   "language": "python",
   "name": "python3"
  },
  "language_info": {
   "codemirror_mode": {
    "name": "ipython",
    "version": 3
   },
   "file_extension": ".py",
   "mimetype": "text/x-python",
   "name": "python",
   "nbconvert_exporter": "python",
   "pygments_lexer": "ipython3",
   "version": "3.8.8"
  }
 },
 "nbformat": 4,
 "nbformat_minor": 5
}
