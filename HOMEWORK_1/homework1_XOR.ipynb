{
 "cells": [
  {
   "cell_type": "markdown",
   "id": "a9c6b877",
   "metadata": {},
   "source": [
    "### Logistic regression (XOR)"
   ]
  },
  {
   "cell_type": "code",
   "execution_count": 1,
   "id": "af26a916",
   "metadata": {},
   "outputs": [],
   "source": [
    "import random\n",
    "from math import exp, log\n",
    "import numpy as np\n",
    "import matplotlib.pyplot as plt"
   ]
  },
  {
   "cell_type": "markdown",
   "id": "4de1efc5",
   "metadata": {},
   "source": [
    "### Data preparation"
   ]
  },
  {
   "cell_type": "code",
   "execution_count": 2,
   "id": "639b6acd",
   "metadata": {},
   "outputs": [],
   "source": [
    "X = np.array([(0,0),(1,0),(0,1),(1,1)])\n",
    "Y = np.array([0,1,1,0])\n",
    "epoch_array = np.array([])\n",
    "cost_array = np.array([])"
   ]
  },
  {
   "cell_type": "markdown",
   "id": "9b2b041e",
   "metadata": {},
   "source": [
    "### Model"
   ]
  },
  {
   "cell_type": "code",
   "execution_count": 3,
   "id": "f814e26c",
   "metadata": {},
   "outputs": [],
   "source": [
    "class logistic_regression_model():\n",
    "    def __init__(self):\n",
    "        self.w = np.random.normal(size = 2)\n",
    "        self.b = np.random.normal(size = 1)\n",
    "        \n",
    "    def sigmoid(self, z):\n",
    "        return 1/(1 + exp(-z))\n",
    "    \n",
    "    def predict(self, x):\n",
    "        z = np.inner(self.w, x) + self.b\n",
    "        a = self.sigmoid(z)\n",
    "        return a"
   ]
  },
  {
   "cell_type": "code",
   "execution_count": 4,
   "id": "b75d7c09",
   "metadata": {},
   "outputs": [],
   "source": [
    "model = logistic_regression_model()"
   ]
  },
  {
   "cell_type": "markdown",
   "id": "f1c386a9",
   "metadata": {},
   "source": [
    "### Training"
   ]
  },
  {
   "cell_type": "code",
   "execution_count": 5,
   "id": "230dde1c",
   "metadata": {},
   "outputs": [],
   "source": [
    "def train(X, Y, model, lr):\n",
    "    dw0 = 0.0\n",
    "    dw1 = 0.0\n",
    "    db = 0.0\n",
    "    m = len(X)\n",
    "    cost = 0.0\n",
    "    for x,y in zip(X,Y):\n",
    "        a = model.predict(x)\n",
    "        if y == 1:\n",
    "            cost -= log(a)\n",
    "        else:\n",
    "            cost -= log(1-a)\n",
    "        \n",
    "        dw0 += np.multiply(a-y, x[0])\n",
    "        dw1 += np.multiply(a-y, x[1])\n",
    "        db += (a-y)\n",
    "        \n",
    "    cost /= m\n",
    "    model.w[0] -= lr * dw0/m\n",
    "    model.w[1] -= lr * dw1/m\n",
    "    model.b -= lr * db/m\n",
    "    \n",
    "    return cost"
   ]
  },
  {
   "cell_type": "code",
   "execution_count": 6,
   "id": "cc9551ee",
   "metadata": {
    "scrolled": true
   },
   "outputs": [
    {
     "name": "stdout",
     "output_type": "stream",
     "text": [
      "0 0.8538526488419824\n",
      "100 0.7007985412613527\n",
      "200 0.6961998181911857\n",
      "300 0.6944193043658022\n",
      "400 0.6936925552051159\n",
      "500 0.693385829928145\n",
      "600 0.6932530930251477\n",
      "700 0.6931946275592166\n",
      "800 0.6931685663510854\n",
      "900 0.6931568577123843\n",
      "1000 0.6931515704720641\n",
      "1100 0.69314917514005\n",
      "1200 0.6931480877131556\n",
      "1300 0.6931475934006662\n",
      "1400 0.6931473685157447\n",
      "1500 0.6931472661525895\n",
      "1600 0.693147219543782\n",
      "1700 0.6931471983171656\n",
      "1800 0.6931471886488904\n",
      "1900 0.6931471842448425\n",
      "2000 0.6931471822386305\n",
      "2100 0.6931471813246957\n",
      "2200 0.6931471809083422\n",
      "2300 0.6931471807186652\n",
      "2400 0.6931471806322538\n",
      "2500 0.6931471805928873\n",
      "2600 0.6931471805749528\n",
      "2700 0.6931471805667824\n",
      "2800 0.6931471805630601\n",
      "2900 0.6931471805613643\n",
      "3000 0.6931471805605918\n",
      "3100 0.6931471805602398\n",
      "3200 0.6931471805600795\n",
      "3300 0.6931471805600063\n",
      "3400 0.6931471805599732\n",
      "3500 0.693147180559958\n",
      "3600 0.6931471805599511\n",
      "3700 0.6931471805599478\n",
      "3800 0.6931471805599465\n",
      "3900 0.6931471805599458\n",
      "4000 0.6931471805599455\n",
      "4100 0.6931471805599454\n",
      "4200 0.6931471805599454\n",
      "4300 0.6931471805599454\n",
      "4400 0.6931471805599453\n",
      "4500 0.6931471805599453\n",
      "4600 0.6931471805599453\n",
      "4700 0.6931471805599453\n",
      "4800 0.6931471805599453\n",
      "4900 0.6931471805599453\n",
      "5000 0.6931471805599453\n",
      "5100 0.6931471805599453\n",
      "5200 0.6931471805599453\n",
      "5300 0.6931471805599454\n",
      "5400 0.6931471805599453\n",
      "5500 0.6931471805599452\n",
      "5600 0.6931471805599453\n",
      "5700 0.6931471805599453\n",
      "5800 0.6931471805599453\n",
      "5900 0.6931471805599453\n",
      "6000 0.6931471805599453\n",
      "6100 0.6931471805599453\n",
      "6200 0.6931471805599453\n",
      "6300 0.6931471805599453\n",
      "6400 0.6931471805599453\n",
      "6500 0.6931471805599453\n",
      "6600 0.6931471805599453\n",
      "6700 0.6931471805599453\n",
      "6800 0.6931471805599454\n",
      "6900 0.6931471805599453\n",
      "7000 0.6931471805599453\n",
      "7100 0.6931471805599453\n",
      "7200 0.6931471805599453\n",
      "7300 0.6931471805599454\n",
      "7400 0.6931471805599453\n",
      "7500 0.6931471805599454\n",
      "7600 0.6931471805599453\n",
      "7700 0.6931471805599454\n",
      "7800 0.6931471805599454\n",
      "7900 0.6931471805599453\n",
      "8000 0.6931471805599453\n",
      "8100 0.6931471805599452\n",
      "8200 0.6931471805599453\n",
      "8300 0.6931471805599453\n",
      "8400 0.6931471805599453\n",
      "8500 0.6931471805599454\n",
      "8600 0.6931471805599453\n",
      "8700 0.6931471805599453\n",
      "8800 0.6931471805599453\n",
      "8900 0.6931471805599454\n",
      "9000 0.6931471805599453\n",
      "9100 0.6931471805599453\n",
      "9200 0.6931471805599453\n",
      "9300 0.6931471805599453\n",
      "9400 0.6931471805599453\n",
      "9500 0.6931471805599453\n",
      "9600 0.6931471805599453\n",
      "9700 0.6931471805599453\n",
      "9800 0.6931471805599453\n",
      "9900 0.6931471805599453\n"
     ]
    }
   ],
   "source": [
    "for epoch in range(10000):\n",
    "    cost = train(X, Y, model, 0.1)\n",
    "    epoch_array = np.append(epoch_array, epoch)\n",
    "    cost_array = np.append(cost_array, cost)\n",
    "    if epoch % 100 == 0:\n",
    "        print(epoch, cost)"
   ]
  },
  {
   "cell_type": "code",
   "execution_count": 7,
   "id": "cc2926e6",
   "metadata": {},
   "outputs": [
    {
     "data": {
      "text/plain": [
       "(0.0, 2.0)"
      ]
     },
     "execution_count": 7,
     "metadata": {},
     "output_type": "execute_result"
    },
    {
     "data": {
      "image/png": "[encoded data removed]",
      "text/plain": [
       "<Figure size 432x288 with 1 Axes>"
      ]
     },
     "metadata": {
      "needs_background": "light"
     },
     "output_type": "display_data"
    }
   ],
   "source": [
    "plt.plot(epoch_array, cost_array)\n",
    "plt.xlabel('epoch')\n",
    "plt.ylabel('cost')\n",
    "plt.title('XOR')\n",
    "plt.ylim([0, 2])"
   ]
  },
  {
   "cell_type": "markdown",
   "id": "123e6371",
   "metadata": {},
   "source": [
    "### Testing"
   ]
  },
  {
   "cell_type": "code",
   "execution_count": 7,
   "id": "451c5171",
   "metadata": {},
   "outputs": [
    {
     "data": {
      "text/plain": [
       "0.5"
      ]
     },
     "execution_count": 7,
     "metadata": {},
     "output_type": "execute_result"
    }
   ],
   "source": [
    "model.predict((0,0))"
   ]
  },
  {
   "cell_type": "code",
   "execution_count": 8,
   "id": "d0e6aa70",
   "metadata": {},
   "outputs": [
    {
     "data": {
      "text/plain": [
       "0.5"
      ]
     },
     "execution_count": 8,
     "metadata": {},
     "output_type": "execute_result"
    }
   ],
   "source": [
    "model.predict((0,1))"
   ]
  },
  {
   "cell_type": "code",
   "execution_count": 9,
   "id": "f13b3a4f",
   "metadata": {},
   "outputs": [
    {
     "data": {
      "text/plain": [
       "0.5"
      ]
     },
     "execution_count": 9,
     "metadata": {},
     "output_type": "execute_result"
    }
   ],
   "source": [
    "model.predict((1,0))"
   ]
  },
  {
   "cell_type": "code",
   "execution_count": 10,
   "id": "335344f1",
   "metadata": {},
   "outputs": [
    {
     "data": {
      "text/plain": [
       "0.5"
      ]
     },
     "execution_count": 10,
     "metadata": {},
     "output_type": "execute_result"
    }
   ],
   "source": [
    "model.predict((1,1))"
   ]
  },
  {
   "cell_type": "code",
   "execution_count": null,
   "id": "f396deac",
   "metadata": {},
   "outputs": [],
   "source": []
  },
  {
   "cell_type": "code",
   "execution_count": null,
   "id": "fe4c05c6",
   "metadata": {},
   "outputs": [],
   "source": []
  },
  {
   "cell_type": "code",
   "execution_count": null,
   "id": "ccc02a7b",
   "metadata": {},
   "outputs": [],
   "source": []
  }
 ],
 "metadata": {
  "kernelspec": {
   "display_name": "Python 3",
   "language": "python",
   "name": "python3"
  },
  "language_info": {
   "codemirror_mode": {
    "name": "ipython",
    "version": 3
   },
   "file_extension": ".py",
   "mimetype": "text/x-python",
   "name": "python",
   "nbconvert_exporter": "python",
   "pygments_lexer": "ipython3",
   "version": "3.8.8"
  }
 },
 "nbformat": 4,
 "nbformat_minor": 5
}
